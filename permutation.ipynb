{
 "cells": [
  {
   "cell_type": "code",
   "execution_count": 14,
   "id": "bb96209e",
   "metadata": {},
   "outputs": [
    {
     "name": "stdout",
     "output_type": "stream",
     "text": [
      "True\n",
      "True\n"
     ]
    }
   ],
   "source": [
    "# fn with 2 strings\n",
    "def checkpermutation(s1,s2):\n",
    "    k=sorted(s1)\n",
    "    p=sorted(s2)\n",
    "    for i in k:\n",
    "        for j in p:\n",
    "            if i!=j or len(s1)!=len(s2):\n",
    "                return False\n",
    "            elif i==j:\n",
    "                return True\n",
    "    return True\n",
    "test=checkpermutation(\"dog\",\"dog\")\n",
    "test1=checkpermutation(\"cat\",\"tan\")\n",
    "print(test)\n",
    "print(test1)"
   ]
  },
  {
   "cell_type": "code",
   "execution_count": null,
   "id": "8c52996a",
   "metadata": {},
   "outputs": [],
   "source": []
  },
  {
   "cell_type": "code",
   "execution_count": null,
   "id": "aed30a3b",
   "metadata": {},
   "outputs": [],
   "source": []
  }
 ],
 "metadata": {
  "kernelspec": {
   "display_name": "Python 3 (ipykernel)",
   "language": "python",
   "name": "python3"
  },
  "language_info": {
   "codemirror_mode": {
    "name": "ipython",
    "version": 3
   },
   "file_extension": ".py",
   "mimetype": "text/x-python",
   "name": "python",
   "nbconvert_exporter": "python",
   "pygments_lexer": "ipython3",
   "version": "3.9.12"
  }
 },
 "nbformat": 4,
 "nbformat_minor": 5
}
